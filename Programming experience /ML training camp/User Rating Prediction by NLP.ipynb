{
 "cells": [
  {
   "cell_type": "code",
   "execution_count": 1,
   "metadata": {},
   "outputs": [],
   "source": [
    "import sys\n",
    "import re\n",
    "import json\n",
    "from collections import defaultdict, Counter\n",
    "from typing import List, Tuple, Dict\n",
    "\n",
    "import numpy as np\n",
    "import matplotlib.pyplot as plt\n",
    "%matplotlib inline\n",
    "\n",
    "import nltk\n",
    "from nltk.tokenize import word_tokenize\n",
    "# nltk.download('punkt')\n",
    "\n",
    "from string import punctuation"
   ]
  },
  {
   "cell_type": "code",
   "execution_count": 2,
   "metadata": {},
   "outputs": [],
   "source": [
    "prefix = 'yelp_dataset/'\n",
    "file_stopword = prefix + 'stopword.list'\n",
    "\n",
    "file_train = prefix + 'reviews_train.json'\n",
    "\n",
    "file_dev = prefix + 'reviews_dev.json'\n",
    "file_dev_label = prefix + 'reviews_dev_labels.txt'\n",
    "\n",
    "file_test = prefix + 'reviews_test.json'\n",
    "file_test_label = prefix + 'reviews_test_labels.txt'"
   ]
  },
  {
   "cell_type": "code",
   "execution_count": 3,
   "metadata": {},
   "outputs": [
    {
     "name": "stdout",
     "output_type": "stream",
     "text": [
      "341 stopwords loaded\n"
     ]
    }
   ],
   "source": [
    "def load_stopwords(infile: str) -> set:\n",
    "    with open(infile) as f:\n",
    "        stopwords = set(map(lambda x:x.strip(), f.readlines()))\n",
    "    print(f'{len(stopwords)} stopwords loaded')\n",
    "    return stopwords\n",
    "\n",
    "stopwords = load_stopwords(file_stopword)"
   ]
  },
  {
   "cell_type": "markdown",
   "metadata": {},
   "source": [
    "# Data Pre-processing and Exploratory Data Analysis (EDA)"
   ]
  },
  {
   "cell_type": "code",
   "execution_count": 4,
   "metadata": {},
   "outputs": [],
   "source": [
    "def parse_text(text: str) -> List[str]:\n",
    "    text = re.sub(r'[^a-zA-Z ]', '', text)\n",
    "    tokens = [x.strip().lower() for x in text.split(' ') if x and x.lower() not in stopwords]\n",
    "    return tokens"
   ]
  },
  {
   "cell_type": "code",
   "execution_count": 5,
   "metadata": {},
   "outputs": [],
   "source": [
    "def preprocess(data_file: str, label_file: str = None) -> Tuple[List[List[str]], List[int]]:\n",
    "    review_list, star_list = [], []\n",
    "\n",
    "    reviews = {}\n",
    "    stars = {}\n",
    "    with open(data_file, 'r') as f:\n",
    "        for json_str in f:\n",
    "            obj = json.loads(json_str)\n",
    "            review_id = obj[\"review_id\"]\n",
    "            review = obj['text'].strip()\n",
    "            tokens = parse_text(review)\n",
    "            reviews[review_id] = tokens\n",
    "\n",
    "            if label_file is None:\n",
    "                label = int(obj['stars'])\n",
    "                review_list.append(tokens)\n",
    "                star_list.append(label)\n",
    "\n",
    "    if label_file:\n",
    "        with open(label_file, 'r') as f:\n",
    "            lines = f.readlines()\n",
    "        for line in lines:\n",
    "            review_id, star = line.strip().split()\n",
    "            stars[review_id] = int(star)\n",
    "\n",
    "        for review_id, tokens in reviews.items():\n",
    "            review_list.append(tokens)\n",
    "            star_list.append(stars[review_id])\n",
    "\n",
    "    return review_list, star_list"
   ]
  },
  {
   "cell_type": "code",
   "execution_count": 6,
   "metadata": {},
   "outputs": [
    {
     "name": "stdout",
     "output_type": "stream",
     "text": [
      "Number of training samples: 1255353\n"
     ]
    }
   ],
   "source": [
    "review_list, star_list = preprocess(file_train)\n",
    "assert len(review_list) == len(star_list)\n",
    "\n",
    "print(f'Number of training samples: {len(review_list)}')"
   ]
  },
  {
   "cell_type": "code",
   "execution_count": 7,
   "metadata": {},
   "outputs": [],
   "source": [
    "def get_top_token_counts(review_list: List[List[str]]) -> List[Tuple[str, int]]:\n",
    "    token_cnt_dict = {}\n",
    "    for tokens in review_list:\n",
    "        for token in tokens:\n",
    "            token_cnt_dict[token] = token_cnt_dict.get(token, 0) + 1\n",
    "\n",
    "    sort_token_cnt_list = sorted(token_cnt_dict.items(), key=lambda x: x[1], reverse=True)\n",
    "\n",
    "    token_cnt_list = sort_token_cnt_list\n",
    "\n",
    "    for token, cnt in token_cnt_list[:9]:\n",
    "        print(f'token={token}\\tcount={cnt}')\n",
    "\n",
    "    with open('token_counts.txt', 'w') as f:\n",
    "        for token, count in token_cnt_list:\n",
    "            f.write(f'{token} {count}\\n')\n",
    "    return token_cnt_list"
   ]
  },
  {
   "cell_type": "code",
   "execution_count": 8,
   "metadata": {},
   "outputs": [
    {
     "name": "stdout",
     "output_type": "stream",
     "text": [
      "token=good\tcount=721552\n",
      "token=place\tcount=706729\n",
      "token=food\tcount=673892\n",
      "token=great\tcount=573051\n",
      "token=like\tcount=542963\n",
      "token=just\tcount=518714\n",
      "token=time\tcount=433290\n",
      "token=service\tcount=411813\n",
      "token=really\tcount=385354\n"
     ]
    }
   ],
   "source": [
    "token_cnt_list = get_top_token_counts(review_list)"
   ]
  },
  {
   "cell_type": "code",
   "execution_count": 9,
   "metadata": {},
   "outputs": [],
   "source": [
    "def get_label_counts(star_list: List[int]) -> List[int]:\n",
    "    stars_count = [0] * 5  # 1-5 stars\n",
    "    for star in star_list:\n",
    "        stars_count[star - 1] += 1\n",
    "\n",
    "    print('star counts:', stars_count)\n",
    "    print('distribution:', np.array(stars_count, dtype=float) / sum(stars_count))\n",
    "    return stars_count"
   ]
  },
  {
   "cell_type": "code",
   "execution_count": 10,
   "metadata": {},
   "outputs": [
    {
     "name": "stdout",
     "output_type": "stream",
     "text": [
      "star counts: [128038, 112547, 178215, 373469, 463084]\n",
      "distribution: [0.10199362 0.08965367 0.14196405 0.29750118 0.36888748]\n"
     ]
    }
   ],
   "source": [
    "stars_count = get_label_counts(star_list)"
   ]
  },
  {
   "cell_type": "code",
   "execution_count": 11,
   "metadata": {},
   "outputs": [],
   "source": [
    "def plot_bar_chart(labels, values, title, ylabel):\n",
    "    fig, ax = plt.subplots()\n",
    "    ax.bar(labels, values)\n",
    "    ax.set_ylabel(ylabel)\n",
    "    ax.set_title(title)\n",
    "    plt.show()"
   ]
  },
  {
   "cell_type": "code",
   "execution_count": 12,
   "metadata": {},
   "outputs": [
    {
     "data": {
      "image/png": "[encoded data removed]",
      "text/plain": [
       "<Figure size 432x288 with 1 Axes>"
      ]
     },
     "metadata": {
      "needs_background": "light"
     },
     "output_type": "display_data"
    }
   ],
   "source": [
    "plot_bar_chart(\n",
    "    labels=['1 Star', '2 Stars', '3 Stars', '4 Stars', '5 Stars'],\n",
    "    values=np.array(stars_count, dtype=float) / sum(stars_count),\n",
    "    title='Label (stars) distribution',\n",
    "    ylabel='Percentage'\n",
    ")"
   ]
  },
  {
   "cell_type": "markdown",
   "metadata": {},
   "source": [
    "# Basic Feature Engineering"
   ]
  },
  {
   "cell_type": "markdown",
   "metadata": {},
   "source": [
    "### BoW Feature"
   ]
  },
  {
   "cell_type": "code",
   "execution_count": 69,
   "metadata": {},
   "outputs": [],
   "source": [
    "DICT_SIZE = 500\n",
    "def create_feat_map(token_cnt_list: List[Tuple[str, int]], dict_size: int) -> Dict[str, int]:\n",
    "    token_cnt_list.sort(key=lambda x:x[1], reverse=True)\n",
    "    top_tokens = [x[0] for x in token_cnt_list[:dict_size]]\n",
    "    feat_map, inv_feat_map = {}, {}\n",
    "\n",
    "    for i, token in enumerate(top_tokens):\n",
    "        feat_map[token] = i\n",
    "        inv_feat_map[i] = token\n",
    "    return feat_map, inv_feat_map"
   ]
  },
  {
   "cell_type": "code",
   "execution_count": 70,
   "metadata": {},
   "outputs": [],
   "source": [
    "def extract_feature(feat_map: Dict[str, int], review_list: List[List[str]], normalize=True) -> np.ndarray:\n",
    "    n_sample, n_feat = len(review_list), DICT_SIZE\n",
    "    X = np.zeros((n_sample, n_feat))\n",
    "    for i,tokens in enumerate(review_list):\n",
    "        feat = X[i]\n",
    "        for token in tokens:\n",
    "            if token in feat_map:\n",
    "                feat[feat_map[token]] +=1\n",
    "#         if normalize and np.sum(X[i]) > 0:\n",
    "#             X[i] /= np.sum(X[i])\n",
    "    return X"
   ]
  },
  {
   "cell_type": "code",
   "execution_count": 71,
   "metadata": {},
   "outputs": [],
   "source": [
    "feat_map, inv_feat_map = create_feat_map(token_cnt_list, DICT_SIZE)\n",
    "X_train, y_train = extract_feature(feat_map, review_list), star_list"
   ]
  },
  {
   "cell_type": "code",
   "execution_count": 72,
   "metadata": {},
   "outputs": [],
   "source": [
    "test_review_list, test_star_list = preprocess(file_dev, file_dev_label)\n",
    "X_val, y_val = extract_feature(feat_map, test_review_list), test_star_list"
   ]
  },
  {
   "cell_type": "markdown",
   "metadata": {},
   "source": [
    "# Model Design and Implementation"
   ]
  },
  {
   "cell_type": "markdown",
   "metadata": {},
   "source": [
    "## Manul model"
   ]
  },
  {
   "cell_type": "code",
   "execution_count": 73,
   "metadata": {},
   "outputs": [
    {
     "name": "stdout",
     "output_type": "stream",
     "text": [
      "[0.2 0.2 0.2 0.2 0.2]\n"
     ]
    }
   ],
   "source": [
    "W = np.ones((5, DICT_SIZE)) / DICT_SIZE\n",
    "\n",
    "def predict(W: np.ndarray, x: np.ndarray) -> np.ndarray:\n",
    "    scores = np.dot(W,x)\n",
    "    scores = np.exp(scores)\n",
    "    scores = scores/np.sum(scores)\n",
    "    return scores\n",
    "\n",
    "fake_x = np.zeros(DICT_SIZE)\n",
    "print(predict(W, fake_x))"
   ]
  },
  {
   "cell_type": "code",
   "execution_count": 74,
   "metadata": {},
   "outputs": [
    {
     "name": "stdout",
     "output_type": "stream",
     "text": [
      "[0. 0. 0. 0. 1.]\n"
     ]
    }
   ],
   "source": [
    "def convert_indicator(y: int) -> np.ndarray:\n",
    "    y_ind = np.zeros(5)\n",
    "    y_ind[y-1] = 1.0\n",
    "    return y_ind\n",
    "\n",
    "print(convert_indicator(5))"
   ]
  },
  {
   "cell_type": "code",
   "execution_count": 75,
   "metadata": {},
   "outputs": [],
   "source": [
    "def get_gradient(W: np.ndarray, x: np.ndarray, y: int) -> np.ndarray:\n",
    "    y = convert_indicator(y)\n",
    "    scores = predict(W,x)\n",
    "    diff = y - scores\n",
    "    grad = np.dot(diff.reshape((-1,1)), x.reshape(1,-1))\n",
    "    return -grad\n",
    "\n",
    "\n",
    "def grad_update(W: np.ndarray, X_batch: List[np.ndarray], y_batch: List[int],\n",
    "                lr: float = 0.01, regul: float = 0.1) -> np.ndarray:\n",
    "    batch_grad = np.zeros_like(W)\n",
    "\n",
    "    for feats, label in zip(X_batch,y_batch):\n",
    "        grad = get_gradient(W, feats,label)\n",
    "        batch_grad += grad\n",
    "    batch_grad /= len(X_batch)\n",
    "    W -= lr * batch_grad + regul * W\n",
    "    return W\n",
    "\n",
    "\n",
    "def compute_accuracy(W: np.ndarray, X: np.ndarray, y: List[int]) -> None:\n",
    "    err = 0\n",
    "    for feats, label in zip(X,y):\n",
    "        prob = predict(W,feats)\n",
    "        y_hat = prob.argmax() + 1\n",
    "        if y_hat != label:\n",
    "            err += 1\n",
    "    print(f'Accuracy is {1.0 - err / len(X)}')\n",
    "\n",
    "\n",
    "def compute_loss(W: np.ndarray, X: np.ndarray, y: List[int], regul: float) -> None:\n",
    "    loss = 0\n",
    "    for feats, label in zip(X,y):\n",
    "        prob = predict(W,feats)\n",
    "        max_idx = prob.argmax()\n",
    "        loss += np.log(prob[max_idx])\n",
    "    loss = -loss/len(X) + regul * np.sum(np.square(W))\n",
    "\n",
    "    print(f'Loss is {loss}')\n",
    "\n",
    "def train_RMLR(X_train: np.ndarray, y_train: List[int], batch_size: int,\n",
    "               lr: float = 0.01, regul: float = 0.1) -> np.ndarray:\n",
    "    print('Start training RMLR...')\n",
    "\n",
    "    W = np.random.rand(5,DICT_SIZE)\n",
    "\n",
    "    print('Initial performance')\n",
    "    compute_loss(W, X_train, y_train, regul)\n",
    "    compute_accuracy(W, X_val, y_val)\n",
    "\n",
    "    n_batch = 0\n",
    "    batch_X = []\n",
    "    batch_y = []\n",
    "\n",
    "    random_seq = [i for i in range(len(X_train))]\n",
    "\n",
    "    while n_batch < 400:\n",
    "        for idx in random_seq:\n",
    "            batch_X.append(X_train[idx])\n",
    "            batch_y.append(y_train[idx])\n",
    "            if len(batch_X) == batch_size:\n",
    "                W = grad_update(W, batch_X, batch_y, lr = lr ,regul=regul)\n",
    "                n_batch += 1\n",
    "                batch_X[:] = []\n",
    "                batch_y[:] = []\n",
    "                if n_batch % 100 == 0:\n",
    "                    print('evaluate at batch:',n_batch)\n",
    "                    compute_loss(W,X_train,y_train,regul)\n",
    "                    compute_accuracy(W,X_val, y_val)\n",
    "        np.random.shuffle(random_seq)\n",
    "    print('Training completed')\n",
    "    return W"
   ]
  },
  {
   "cell_type": "code",
   "execution_count": 76,
   "metadata": {},
   "outputs": [
    {
     "name": "stdout",
     "output_type": "stream",
     "text": [
      "Start training RMLR...\n",
      "Initial performance\n",
      "Loss is 85.7503044578681\n",
      "Accuracy is 0.2171645118145341\n",
      "evaluate at batch: 100\n",
      "Loss is 1.6094379718202156\n",
      "Accuracy is 0.2171645118145341\n",
      "evaluate at batch: 200\n",
      "Loss is 1.6094379124581686\n",
      "Accuracy is 0.2171645118145341\n",
      "evaluate at batch: 300\n",
      "Loss is 1.6094379124581686\n",
      "Accuracy is 0.2168205846761353\n",
      "evaluate at batch: 400\n",
      "Loss is 1.6094379124581686\n",
      "Accuracy is 0.10130564932169928\n",
      "Training completed\n"
     ]
    }
   ],
   "source": [
    "W = train_RMLR(X_train,y_train,batch_size=100000, lr=1)"
   ]
  },
  {
   "cell_type": "code",
   "execution_count": 45,
   "metadata": {},
   "outputs": [],
   "source": [
    "y_pred_train = [predict(W, x).argmax()+1 for x in X_train]\n",
    "y_pred_val = [predict(W, x).argmax()+1 for x in X_val]"
   ]
  },
  {
   "cell_type": "code",
   "execution_count": 46,
   "metadata": {},
   "outputs": [],
   "source": [
    "def multiclass_accuracy_score(y_true: List[int], y_pred: List[int]) -> None:\n",
    "    count = Counter()\n",
    "    err = Counter()\n",
    "    n_count, n_err = 0, 0\n",
    "    for y,y_hat in zip(y_true,y_pred):\n",
    "        count[y] += 1\n",
    "        n_count += 1\n",
    "        if y != y_hat:\n",
    "            err[y] += 1\n",
    "            n_err += 1\n",
    "\n",
    "    print(f'Overall accuracy: {1 - n_err / n_count}')\n",
    "    print(f'Per-class accuracy:')\n",
    "    for star, cnt in sorted(count.items()):\n",
    "        print(f'Star={star}, accuracy={1 - err[star] / cnt}')"
   ]
  },
  {
   "cell_type": "code",
   "execution_count": 47,
   "metadata": {},
   "outputs": [
    {
     "name": "stdout",
     "output_type": "stream",
     "text": [
      "Overall accuracy: 0.4958501712267386\n",
      "Per-class accuracy:\n",
      "Star=1, accuracy=0.42300723222793235\n",
      "Star=2, accuracy=0.022017468257705675\n",
      "Star=3, accuracy=0.08763572089891425\n",
      "Star=4, accuracy=0.48899640934053423\n",
      "Star=5, accuracy=0.7937760751829042\n",
      "Overall accuracy: 0.4958501712267386\n",
      "Per-class accuracy:\n",
      "Star=1, accuracy=0.42300723222793235\n",
      "Star=2, accuracy=0.022017468257705675\n",
      "Star=3, accuracy=0.08763572089891425\n",
      "Star=4, accuracy=0.48899640934053423\n",
      "Star=5, accuracy=0.7937760751829042\n"
     ]
    }
   ],
   "source": [
    "# Evluation\n",
    "multiclass_accuracy_score(y_train, y_pred_train)\n",
    "multiclass_accuracy_score(y_val, y_pred_val)"
   ]
  },
  {
   "cell_type": "code",
   "execution_count": 48,
   "metadata": {},
   "outputs": [],
   "source": [
    "def root_mean_square_err(y_true: List[int], y_pred: List[int]) -> None:\n",
    "    s = 0.0\n",
    "    for y,y_hat in zip(y_true,y_pred):\n",
    "        s += np.square(y-y_hat)\n",
    "    print(f'RMSE={np.sqrt(s / len(y_true))}')"
   ]
  },
  {
   "cell_type": "code",
   "execution_count": 49,
   "metadata": {},
   "outputs": [
    {
     "name": "stdout",
     "output_type": "stream",
     "text": [
      "RMSE=1.3149531150964102\n",
      "RMSE=1.3149531150964102\n"
     ]
    }
   ],
   "source": [
    "root_mean_square_err(y_train, y_pred_train)\n",
    "root_mean_square_err(y_val, y_pred_val)"
   ]
  },
  {
   "cell_type": "markdown",
   "metadata": {},
   "source": [
    "## From pkg"
   ]
  },
  {
   "cell_type": "markdown",
   "metadata": {},
   "source": [
    "### Linear model"
   ]
  },
  {
   "cell_type": "code",
   "execution_count": 36,
   "metadata": {},
   "outputs": [],
   "source": [
    "from sklearn.linear_model import LogisticRegression\n",
    "from sklearn.metrics import accuracy_score\n",
    "from sklearn.metrics import mean_squared_error\n",
    "from sklearn.metrics import classification_report\n",
    "from sklearn.metrics import plot_confusion_matrix"
   ]
  },
  {
   "cell_type": "code",
   "execution_count": 107,
   "metadata": {},
   "outputs": [
    {
     "name": "stderr",
     "output_type": "stream",
     "text": [
      "[Parallel(n_jobs=6)]: Using backend LokyBackend with 6 concurrent workers.\n",
      "[Parallel(n_jobs=6)]: Done   1 out of   1 | elapsed:  2.4min finished\n"
     ]
    },
    {
     "name": "stdout",
     "output_type": "stream",
     "text": [
      "Trainig accuracy is 0.5549108497769153\n",
      "Validation accuracy is 0.5525699000063691\n",
      "Trainig RMSE is 1.096161664600941\n",
      "Validation RMSE is 1.09793072734382\n"
     ]
    }
   ],
   "source": [
    "model = LogisticRegression(penalty='l2', tol=0.0001, C=1.0, fit_intercept=True, solver='lbfgs', max_iter=30,\n",
    "                           multi_class='auto', verbose=1, n_jobs=6)\n",
    "model.fit(X_train, y_train)\n",
    "y_hat_train = model.predict(X_train)\n",
    "y_hat_val = model.predict(X_val)\n",
    "\n",
    "print(f'Trainig accuracy is {accuracy_score(y_train, y_hat_train)}')\n",
    "print(f'Validation accuracy is {accuracy_score(y_val, y_hat_val)}')\n",
    "\n",
    "print(f'Trainig RMSE is {np.sqrt(mean_squared_error(y_train, y_hat_train))}')\n",
    "print(f'Validation RMSE is {np.sqrt(mean_squared_error(y_val, y_hat_val))}')"
   ]
  },
  {
   "cell_type": "code",
   "execution_count": 108,
   "metadata": {},
   "outputs": [
    {
     "name": "stdout",
     "output_type": "stream",
     "text": [
      "Training set\n"
     ]
    },
    {
     "data": {
      "image/png": "[encoded data removed]",
      "text/plain": [
       "<Figure size 432x288 with 2 Axes>"
      ]
     },
     "metadata": {},
     "output_type": "display_data"
    }
   ],
   "source": [
    "print('Training set')\n",
    "disp = plot_confusion_matrix(model, X_train, y_train, cmap=plt.cm.Blues, normalize='true')"
   ]
  },
  {
   "cell_type": "code",
   "execution_count": 109,
   "metadata": {},
   "outputs": [
    {
     "name": "stdout",
     "output_type": "stream",
     "text": [
      "Validation set\n"
     ]
    },
    {
     "data": {
      "image/png": "[encoded data removed]",
      "text/plain": [
       "<Figure size 432x288 with 2 Axes>"
      ]
     },
     "metadata": {},
     "output_type": "display_data"
    }
   ],
   "source": [
    "print('Validation set')\n",
    "disp = plot_confusion_matrix(model, X_val, y_val, cmap=plt.cm.Blues, normalize='true')"
   ]
  },
  {
   "cell_type": "markdown",
   "metadata": {},
   "source": [
    "### TF-iDF Feature"
   ]
  },
  {
   "cell_type": "code",
   "execution_count": 19,
   "metadata": {},
   "outputs": [],
   "source": [
    "import pandas as pd\n",
    "from textblob import Word\n",
    "from textblob import TextBlob\n",
    "\n",
    "from scipy.sparse import hstack\n",
    "import numpy as np\n",
    "from sklearn import model_selection\n",
    "from sklearn.ensemble import BaggingClassifier\n",
    "from sklearn.linear_model import LogisticRegression"
   ]
  },
  {
   "cell_type": "code",
   "execution_count": 46,
   "metadata": {},
   "outputs": [
    {
     "name": "stdout",
     "output_type": "stream",
     "text": [
      "dr goldberg offers look general practitioner hes nice easy talk patronizing hes time seeing patients hes affiliated topnotch hospital nyu parents explained important case happens need surgery referrals specialists having really need sitting trying think complaints really drawing blank\n",
      "5\n",
      "1255353\n",
      "1255353\n",
      "notch doctor notch practice say surprised referred doctor think wonderful went best medical schools country really easy appointment minimal wait seen bedside manner great\n",
      "5\n",
      "157010\n",
      "157010\n"
     ]
    },
    {
     "ename": "MemoryError",
     "evalue": "Unable to allocate 43.4 GiB for an array with shape (1255353,) and data type <U9281",
     "output_type": "error",
     "traceback": [
      "\u001b[1;31m---------------------------------------------------------------------------\u001b[0m",
      "\u001b[1;31mMemoryError\u001b[0m                               Traceback (most recent call last)",
      "\u001b[1;32m~\\AppData\\Local\\Temp/ipykernel_24824/3036786148.py\u001b[0m in \u001b[0;36m<module>\u001b[1;34m\u001b[0m\n\u001b[0;32m      8\u001b[0m \u001b[0mprint\u001b[0m\u001b[1;33m(\u001b[0m\u001b[0mlen\u001b[0m\u001b[1;33m(\u001b[0m\u001b[0mtest_review_list\u001b[0m\u001b[1;33m)\u001b[0m\u001b[1;33m)\u001b[0m\u001b[1;33m\u001b[0m\u001b[1;33m\u001b[0m\u001b[0m\n\u001b[0;32m      9\u001b[0m \u001b[0mprint\u001b[0m\u001b[1;33m(\u001b[0m\u001b[0mlen\u001b[0m\u001b[1;33m(\u001b[0m\u001b[0mtest_star_list\u001b[0m\u001b[1;33m)\u001b[0m\u001b[1;33m)\u001b[0m\u001b[1;33m\u001b[0m\u001b[1;33m\u001b[0m\u001b[0m\n\u001b[1;32m---> 10\u001b[1;33m \u001b[0mreview_list\u001b[0m \u001b[1;33m=\u001b[0m \u001b[0mnp\u001b[0m\u001b[1;33m.\u001b[0m\u001b[0marray\u001b[0m\u001b[1;33m(\u001b[0m\u001b[1;33m[\u001b[0m\u001b[1;34m' '\u001b[0m\u001b[1;33m.\u001b[0m\u001b[0mjoin\u001b[0m\u001b[1;33m(\u001b[0m\u001b[0mline\u001b[0m\u001b[1;33m)\u001b[0m \u001b[1;32mfor\u001b[0m \u001b[0mline\u001b[0m \u001b[1;32min\u001b[0m \u001b[0mreview_list\u001b[0m\u001b[1;33m]\u001b[0m\u001b[1;33m)\u001b[0m\u001b[1;33m\u001b[0m\u001b[1;33m\u001b[0m\u001b[0m\n\u001b[0m\u001b[0;32m     11\u001b[0m \u001b[0mtest_review_list\u001b[0m \u001b[1;33m=\u001b[0m \u001b[0mnp\u001b[0m\u001b[1;33m.\u001b[0m\u001b[0marray\u001b[0m\u001b[1;33m(\u001b[0m\u001b[1;33m[\u001b[0m\u001b[1;34m' '\u001b[0m\u001b[1;33m.\u001b[0m\u001b[0mjoin\u001b[0m\u001b[1;33m(\u001b[0m\u001b[0mline\u001b[0m\u001b[1;33m)\u001b[0m \u001b[1;32mfor\u001b[0m \u001b[0mline\u001b[0m \u001b[1;32min\u001b[0m \u001b[0mtest_review_list\u001b[0m\u001b[1;33m]\u001b[0m\u001b[1;33m)\u001b[0m\u001b[1;33m\u001b[0m\u001b[1;33m\u001b[0m\u001b[0m\n",
      "\u001b[1;31mMemoryError\u001b[0m: Unable to allocate 43.4 GiB for an array with shape (1255353,) and data type <U9281"
     ]
    }
   ],
   "source": [
    "print(review_list[0])\n",
    "print(star_list[0])\n",
    "print(len(review_list))\n",
    "print(len(star_list))\n",
    "\n",
    "print(test_review_list[0])\n",
    "print(test_star_list[0])\n",
    "print(len(test_review_list))\n",
    "print(len(test_star_list))\n",
    "review_list = np.array([' '.join(line) for line in review_list])\n",
    "test_review_list = np.array([' '.join(line) for line in test_review_list])"
   ]
  },
  {
   "cell_type": "code",
   "execution_count": 54,
   "metadata": {},
   "outputs": [],
   "source": [
    "from sklearn.feature_extraction.text import TfidfTransformer\n",
    "from sklearn.feature_extraction.text import CountVectorizer\n",
    "from sklearn.feature_extraction.text import TfidfVectorizer\n",
    "\n",
    "# vectorizer = CountVectorizer(ngram_range=(2, 2), max_features=max_features,stop_words='english',lowercase=True)\n",
    "# transformer = TfidfTransformer()\n",
    "# features = transformer.fit_transform(review_list)\n",
    "tfidf = TfidfVectorizer(\n",
    "    max_features=10000\n",
    "    )\n",
    "X_train = tfidf.fit_transform(review_list)\n",
    "y_train = np.array(star_list)"
   ]
  },
  {
   "cell_type": "code",
   "execution_count": 57,
   "metadata": {},
   "outputs": [],
   "source": [
    "vectorizer = CountVectorizer(ngram_range=(2, 2), max_features=10000,stop_words='english',lowercase=True)\n",
    "transformer = TfidfTransformer()\n",
    "x = transformer.fit_transform(vectorizer.fit_transform(review_list))"
   ]
  },
  {
   "cell_type": "code",
   "execution_count": 48,
   "metadata": {},
   "outputs": [
    {
     "data": {
      "text/plain": [
       "'dr goldberg offers look general practitioner hes nice easy talk patronizing hes time seeing patients hes affiliated topnotch hospital nyu parents explained important case happens need surgery referrals specialists having really need sitting trying think complaints really drawing blank'"
      ]
     },
     "execution_count": 48,
     "metadata": {},
     "output_type": "execute_result"
    }
   ],
   "source": [
    "review_list[0]"
   ]
  },
  {
   "cell_type": "code",
   "execution_count": 60,
   "metadata": {},
   "outputs": [],
   "source": [
    "X_val = transformer.fit_transform(vectorizer.fit_transform(test_review_list))\n",
    "# X_val = tfidf.fit_transform(test_review_list)\n",
    "y_val = np.array(test_star_list)"
   ]
  },
  {
   "cell_type": "markdown",
   "metadata": {},
   "source": [
    "### Linear"
   ]
  },
  {
   "cell_type": "code",
   "execution_count": 61,
   "metadata": {},
   "outputs": [
    {
     "name": "stderr",
     "output_type": "stream",
     "text": [
      "[Parallel(n_jobs=6)]: Using backend LokyBackend with 6 concurrent workers.\n",
      "[Parallel(n_jobs=6)]: Done   1 out of   1 | elapsed:   24.1s finished\n"
     ]
    },
    {
     "name": "stdout",
     "output_type": "stream",
     "text": [
      "Trainig accuracy is 0.5822091475465466\n",
      "Validation accuracy is 0.297700783389593\n",
      "Trainig RMSE is 0.9572539300650779\n",
      "Validation RMSE is 1.6232852774643016\n"
     ]
    }
   ],
   "source": [
    "model = LogisticRegression(penalty='l2', tol=0.0001, C=1.0, fit_intercept=True, solver='lbfgs', max_iter=30,\n",
    "                           multi_class='auto', verbose=1, n_jobs=6)\n",
    "model.fit(X_train, y_train)\n",
    "y_hat_train = model.predict(X_train)\n",
    "y_hat_val = model.predict(X_val)\n",
    "\n",
    "print(f'Trainig accuracy is {accuracy_score(y_train, y_hat_train)}')\n",
    "print(f'Validation accuracy is {accuracy_score(y_val, y_hat_val)}')\n",
    "\n",
    "print(f'Trainig RMSE is {np.sqrt(mean_squared_error(y_train, y_hat_train))}')\n",
    "print(f'Validation RMSE is {np.sqrt(mean_squared_error(y_val, y_hat_val))}')"
   ]
  },
  {
   "cell_type": "code",
   "execution_count": null,
   "metadata": {},
   "outputs": [],
   "source": []
  },
  {
   "cell_type": "markdown",
   "metadata": {},
   "source": [
    "### DecisionTreeClassifier"
   ]
  },
  {
   "cell_type": "code",
   "execution_count": 42,
   "metadata": {},
   "outputs": [
    {
     "name": "stdout",
     "output_type": "stream",
     "text": [
      "Trainig accuracy is 0.4523787333124627\n",
      "Validation accuracy is 0.37098273995286923\n",
      "Trainig RMSE is 1.4783110726452569\n",
      "Validation RMSE is 1.815124099993138\n"
     ]
    }
   ],
   "source": [
    "from sklearn.tree import DecisionTreeClassifier\n",
    "\n",
    "dt =  DecisionTreeClassifier(max_depth=10)\n",
    "dt.fit(X_train,y_train)\n",
    "\n",
    "y_hat_train = dt.predict(X_train)\n",
    "y_hat_val = dt.predict(X_val)\n",
    "\n",
    "print(f'Trainig accuracy is {accuracy_score(y_train, y_hat_train)}')\n",
    "print(f'Validation accuracy is {accuracy_score(y_val, y_hat_val)}')\n",
    "\n",
    "print(f'Trainig RMSE is {np.sqrt(mean_squared_error(y_train, y_hat_train))}')\n",
    "print(f'Validation RMSE is {np.sqrt(mean_squared_error(y_val, y_hat_val))}')"
   ]
  },
  {
   "cell_type": "markdown",
   "metadata": {},
   "source": [
    "### SVM"
   ]
  },
  {
   "cell_type": "code",
   "execution_count": 40,
   "metadata": {},
   "outputs": [
    {
     "name": "stdout",
     "output_type": "stream",
     "text": [
      "Trainig accuracy is 0.6239272937572141\n",
      "Validation accuracy is 0.39568817272785173\n",
      "Trainig RMSE is 0.8662696968847627\n",
      "Validation RMSE is 1.5879377816270317\n"
     ]
    }
   ],
   "source": [
    "from sklearn.svm import SVC, LinearSVC\n",
    "svc = LinearSVC(C=0.1)\n",
    "svc.fit(X_train, y_train)\n",
    "\n",
    "y_hat_train = svc.predict(X_train)\n",
    "y_hat_val = svc.predict(X_val)\n",
    "\n",
    "print(f'Trainig accuracy is {accuracy_score(y_train, y_hat_train)}')\n",
    "print(f'Validation accuracy is {accuracy_score(y_val, y_hat_val)}')\n",
    "\n",
    "print(f'Trainig RMSE is {np.sqrt(mean_squared_error(y_train, y_hat_train))}')\n",
    "print(f'Validation RMSE is {np.sqrt(mean_squared_error(y_val, y_hat_val))}')"
   ]
  },
  {
   "cell_type": "code",
   "execution_count": 116,
   "metadata": {},
   "outputs": [],
   "source": []
  }
 ],
 "metadata": {
  "kernelspec": {
   "display_name": "Python 3",
   "language": "python",
   "name": "python3"
  },
  "language_info": {
   "codemirror_mode": {
    "name": "ipython",
    "version": 3
   },
   "file_extension": ".py",
   "mimetype": "text/x-python",
   "name": "python",
   "nbconvert_exporter": "python",
   "pygments_lexer": "ipython3",
   "version": "3.10.0"
  }
 },
 "nbformat": 4,
 "nbformat_minor": 4
}
